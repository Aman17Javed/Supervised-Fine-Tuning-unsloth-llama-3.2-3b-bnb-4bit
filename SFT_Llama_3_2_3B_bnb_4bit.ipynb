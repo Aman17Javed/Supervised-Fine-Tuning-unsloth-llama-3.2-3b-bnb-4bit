{
  "cells": [
    {
      "cell_type": "markdown",
      "metadata": {
        "id": "view-in-github",
        "colab_type": "text"
      },
      "source": [
        "<a href=\"https://colab.research.google.com/github/Aman17Javed/Supervised-Fine-Tuning-unsloth-llama-3.2-3b-bnb-4bit/blob/main/SFT_Llama_3_2_3B_bnb_4bit.ipynb\" target=\"_parent\"><img src=\"https://colab.research.google.com/assets/colab-badge.svg\" alt=\"Open In Colab\"/></a>"
      ]
    },
    {
      "cell_type": "code",
      "source": [
        "import nbformat\n",
        "from google.colab import _message\n",
        "\n",
        "# Get notebook content from Colab memory\n",
        "_ipynb = _message.blocking_request('get_ipynb')['ipynb']\n",
        "\n",
        "# Remove widgets metadata completely\n",
        "if \"widgets\" in _ipynb[\"metadata\"]:\n",
        "    del _ipynb[\"metadata\"][\"widgets\"]\n",
        "\n",
        "# Write cleaned notebook to same filename\n",
        "with open(\"SFT_Llama-3.2-3B-bnb-4bit.ipynb\", \"w\") as f:\n",
        "    nbformat.write(nbformat.from_dict(_ipynb), f)\n",
        "\n",
        "print(\"Notebook cleaned — ready to push to GitHub.\")\n"
      ],
      "metadata": {
        "id": "zUjenoxL_psK"
      },
      "execution_count": null,
      "outputs": []
    },
    {
      "cell_type": "code",
      "execution_count": null,
      "metadata": {
        "collapsed": true,
        "id": "Q_DOUQW9V38D"
      },
      "outputs": [],
      "source": [
        "!pip install unsloth"
      ]
    },
    {
      "cell_type": "code",
      "execution_count": null,
      "metadata": {
        "id": "sEMdDbDrreAn",
        "collapsed": true
      },
      "outputs": [],
      "source": [
        "!pip install --upgrade transformers accelerate safetensors\n"
      ]
    },
    {
      "cell_type": "code",
      "execution_count": null,
      "metadata": {
        "id": "YzLGMXQfYdT2"
      },
      "outputs": [],
      "source": [
        "from unsloth import FastLanguageModel"
      ]
    },
    {
      "cell_type": "code",
      "execution_count": 4,
      "metadata": {
        "id": "YomFMOjPYpeN"
      },
      "outputs": [],
      "source": [
        "import torch\n"
      ]
    },
    {
      "cell_type": "code",
      "execution_count": 5,
      "metadata": {
        "id": "DpDOWn1rZXDy"
      },
      "outputs": [],
      "source": [
        "max_seq_length=2048"
      ]
    },
    {
      "cell_type": "code",
      "execution_count": 6,
      "metadata": {
        "id": "SMO9QYgaZdxk"
      },
      "outputs": [],
      "source": [
        "dtype=None\n",
        "load_in_4bit=True"
      ]
    },
    {
      "cell_type": "code",
      "execution_count": 7,
      "metadata": {
        "id": "ISW8S-wjZkJ2"
      },
      "outputs": [],
      "source": [
        "from huggingface_hub import login"
      ]
    },
    {
      "cell_type": "code",
      "execution_count": 8,
      "metadata": {
        "id": "vKl63GnTZ9h3"
      },
      "outputs": [],
      "source": [
        "from google.colab import userdata\n",
        "hf_token=userdata.get('hugging_face_key')\n",
        "login(hf_token)"
      ]
    },
    {
      "cell_type": "code",
      "execution_count": null,
      "metadata": {
        "id": "TBZ1C73LaVRk"
      },
      "outputs": [],
      "source": [
        "model, tokenizer = FastLanguageModel.from_pretrained(\n",
        "    model_name = \"unsloth/Llama-3.2-3B-bnb-4bit\",\n",
        "    max_seq_length=max_seq_length,\n",
        "    dtype=dtype,\n",
        "    load_in_4bit=load_in_4bit,\n",
        "    token=hf_token,\n",
        ")"
      ]
    },
    {
      "cell_type": "code",
      "execution_count": 10,
      "metadata": {
        "id": "C5cmonKJdvk3"
      },
      "outputs": [],
      "source": [
        "prompt_style = \"\"\"Below is an instruction that describes a task, paired with a question.\n",
        "Write a response that appropriately completes the request.\n",
        "Before answering, think carefully about the question and create a detailed answer.\n",
        "\n",
        "### Instruction:\n",
        "You are a helpful AI assistant with advanced knowledge in multiple fields.\n",
        "Please answer the following question.\n",
        "\n",
        "### Question:\n",
        "{}\n",
        "\n",
        "### Response:\n",
        "<think>{}\n",
        "\"\"\"\n"
      ]
    },
    {
      "cell_type": "code",
      "execution_count": null,
      "metadata": {
        "id": "B-fPcUD2d--_"
      },
      "outputs": [],
      "source": [
        "model = FastLanguageModel.get_peft_model(\n",
        "\n",
        "model,\n",
        "\n",
        "r=16,\n",
        "\n",
        "target_modules=[\n",
        "\n",
        "\"q_proj\",\n",
        "\n",
        "\"k_proj\",\n",
        "\n",
        "\"v_proj\",\n",
        "\n",
        "\"o_proj\",\n",
        "\n",
        "\"gate_proj\",\n",
        "\n",
        "\"up_proj\",\n",
        "\n",
        "\"down_proj\",\n",
        "\n",
        "],\n",
        "\n",
        "lora_alpha=16,\n",
        "\n",
        "lora_dropout=0,\n",
        "\n",
        "bias=\"none\",\n",
        "\n",
        "use_gradient_checkpointing=\"unsloth\",\n",
        "\n",
        "random_state=9001,\n",
        "\n",
        "use_rslora=False,\n",
        "\n",
        "loftq_config=None,\n",
        ")"
      ]
    },
    {
      "cell_type": "code",
      "execution_count": 12,
      "metadata": {
        "id": "xSjhv_Pqg4m8"
      },
      "outputs": [],
      "source": [
        "EOS_TOKEN = tokenizer.eos_token  # Must add EOS_TOKEN\n",
        "\n",
        "# Define how each training sample should look\n",
        "train_prompt_style = \"\"\"Instruction:\n",
        "{instruction}\n",
        "\n",
        "Context:\n",
        "{context}\n",
        "\n",
        "Response:\n",
        "{response}\n",
        "\"\"\"\n",
        "\n",
        "def formatting_prompts_func(examples):\n",
        "    # Get columns with safe defaults\n",
        "    inputs = examples.get(\"instruction\", [\"\"] * len(examples[\"response\"]))\n",
        "    contexts = examples.get(\"context\", [\"\"] * len(examples[\"response\"]))  # Dolly has context column\n",
        "    outputs = examples.get(\"response\", [\"\"] * len(examples[\"response\"]))\n",
        "\n",
        "    texts = []\n",
        "    for instr, ctx, resp in zip(inputs, contexts, outputs):\n",
        "        # Fill in prompt\n",
        "        text = train_prompt_style.format(\n",
        "            instruction=instr.strip(),\n",
        "            context=ctx.strip(),\n",
        "            response=resp.strip()\n",
        "        ) + EOS_TOKEN\n",
        "        texts.append(text)\n",
        "\n",
        "    return {\"text\": texts}\n"
      ]
    },
    {
      "cell_type": "code",
      "execution_count": null,
      "metadata": {
        "id": "ZfCt3yMsigkz"
      },
      "outputs": [],
      "source": [
        "from datasets import load_dataset\n",
        "\n",
        "dataset = load_dataset(\"databricks/databricks-dolly-15k\")\n",
        "dataset = dataset.map(formatting_prompts_func, batched=True)\n",
        "\n",
        "print(dataset[\"train\"][\"text\"][0])  # Show first formatted prompt\n"
      ]
    },
    {
      "cell_type": "code",
      "execution_count": null,
      "metadata": {
        "id": "ogxt3R_vihEO"
      },
      "outputs": [],
      "source": [
        "from trl import SFTTrainer\n",
        "from transformers import TrainingArguments\n",
        "from unsloth import is_bfloat16_supported\n",
        "\n",
        "# ✅ Sample only 500 rows for speed\n",
        "train_dataset = dataset[\"train\"].shuffle(seed=42).select(range(500))\n",
        "\n",
        "trainer = SFTTrainer(\n",
        "    model=model,\n",
        "    tokenizer=tokenizer,\n",
        "    train_dataset=train_dataset,\n",
        "    dataset_text_field=\"text\",  # Make sure your formatting function created this field\n",
        "    max_seq_length=max_seq_length,\n",
        "    dataset_num_proc=2,\n",
        "    args=TrainingArguments(\n",
        "        per_device_train_batch_size=2,\n",
        "        gradient_accumulation_steps=4,\n",
        "        warmup_steps=5,\n",
        "        max_steps=100,  # ⏳ ~3-5 min training\n",
        "        learning_rate=2e-4,\n",
        "        fp16=not is_bfloat16_supported(),\n",
        "        bf16=is_bfloat16_supported(),\n",
        "        logging_steps=10,\n",
        "        optim=\"adamw_8bit\",\n",
        "        weight_decay=0.01,\n",
        "        lr_scheduler_type=\"linear\",\n",
        "        seed=3407,\n",
        "        output_dir=\"outputs\",\n",
        "        report_to=\"none\"\n",
        "    )\n",
        ")\n"
      ]
    },
    {
      "cell_type": "code",
      "execution_count": null,
      "metadata": {
        "id": "e6-VM9PFkPmQ"
      },
      "outputs": [],
      "source": [
        "trainer_stats=trainer.train()"
      ]
    },
    {
      "cell_type": "code",
      "execution_count": null,
      "metadata": {
        "id": "pqgwHPMMq-f8"
      },
      "outputs": [],
      "source": [
        "# Save model + tokenizer in Hugging Face format\n",
        "save_dir = \"outputs\"  # folder to store files\n",
        "\n",
        "model.save_pretrained(save_dir)\n",
        "tokenizer.save_pretrained(save_dir)\n"
      ]
    },
    {
      "cell_type": "code",
      "execution_count": null,
      "metadata": {
        "id": "ACzEP0Nrllm4"
      },
      "outputs": [],
      "source": [
        "\n",
        "from transformers import AutoTokenizer\n",
        "from unsloth import FastLanguageModel\n",
        "\n",
        "model_path = \"unsloth/Llama-3.2-3B-bnb-4bit\"\n",
        "max_seq_length = 512\n",
        "dtype = \"float16\"\n",
        "load_in_4bit = True\n",
        "\n",
        "# Load tokenizer\n",
        "tokenizer = AutoTokenizer.from_pretrained(model_path)\n",
        "\n",
        "# Load model\n",
        "model, _ = FastLanguageModel.from_pretrained(\n",
        "    model_name=model_path,\n",
        "    max_seq_length=max_seq_length,\n",
        "    dtype=dtype,\n",
        "    load_in_4bit=load_in_4bit,\n",
        "    device_map=\"auto\",\n",
        ")\n",
        "\n",
        "# Enable inference optimizations\n",
        "FastLanguageModel.for_inference(model)\n",
        "\n",
        "# Define the prompt\n",
        "prompt = \"\"\"Explain supervised fine-tuning in simple words. What is the difference between fine-tuning and training from scratch? What are the benefits of fine-tuning? How do I fine-tune a model? How do I fine-tune a model using Hugging Face Transformers?\"\"\"\n",
        "\n",
        "# Generate text with tuned settings\n",
        "inputs = tokenizer(prompt, return_tensors=\"pt\").to(model.device)\n",
        "outputs = model.generate(\n",
        "    **inputs,\n",
        "    max_new_tokens=1024,  # Increased for longer response\n",
        "    do_sample=True,\n",
        "    temperature=0.7,\n",
        "    top_p=0.9,\n",
        "    eos_token_id=tokenizer.eos_token_id,\n",
        ")\n",
        "\n",
        "# Decode and print output\n",
        "print(tokenizer.decode(outputs[0], skip_special_tokens=True))\n"
      ]
    },
    {
      "cell_type": "code",
      "source": [
        "new_model_online = \"amanjaved421/SFT_Llama-3.2-3B-bnb-4bit\"\n",
        "new_model_local = \"SFT_Llama-3.2-3B-bnb-4bit\"\n",
        "\n",
        "model.save_pretrained(new_model_local)     # Save model weights\n",
        "tokenizer.save_pretrained(new_model_local) # Save tokenizer\n"
      ],
      "metadata": {
        "id": "nO8RS8Trbhg_"
      },
      "execution_count": null,
      "outputs": []
    },
    {
      "cell_type": "code",
      "source": [
        "model.push_to_hub(new_model_online)\n",
        "tokenizer.push_to_hub(new_model_online)"
      ],
      "metadata": {
        "id": "4gxw5NZAdVGc"
      },
      "execution_count": null,
      "outputs": []
    }
  ],
  "metadata": {
    "accelerator": "GPU",
    "colab": {
      "gpuType": "T4",
      "provenance": [],
      "authorship_tag": "ABX9TyNRkHJBUOz4vGFk7LujBXhx",
      "include_colab_link": true
    },
    "kernelspec": {
      "display_name": "Python 3",
      "name": "python3"
    },
    "language_info": {
      "name": "python"
    }
  },
  "nbformat": 4,
  "nbformat_minor": 0
}